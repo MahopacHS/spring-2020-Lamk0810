{
  "cells": [
    {
      "metadata": {},
      "cell_type": "markdown",
      "source": "# Now You Code 1: Exam Stats\n\nWrite a program to input exam scores (out of 100) until you enter 'quit'. After you finish entering exam scores the program will print out the average of all the exam scores.\n\n**HINTS:** \n\n- To figure out the average you must keep a running total of exam scores and a count of the number of exam scores entered.\n- Try to make the program work 1 time, then figure out the exit condition and use a while True: indefinite loop.\n\nExample Run:\n\n```\nEnter exam score or type 'quit': 100\nEnter exam score or type 'quit': 100\nEnter exam score or type 'quit': 50\nEnter exam score or type 'quit': quit\nNumber of scores 3. Average is 83.33\n```"
    },
    {
      "metadata": {
        "collapsed": true
      },
      "cell_type": "markdown",
      "source": "## Step 1: Problem Analysis\n\nInputs:\n\nOutputs:\n\nAlgorithm (Steps in Program):\n\n\n"
    },
    {
      "metadata": {
        "trusted": true
      },
      "cell_type": "code",
      "source": "# Step 2: Write code here\nExam_1 = float(input(\"enter exam score or type quit\"))\nExam_2 = float(input(\"enter exam score or type quit\"))\nExam_3 = float(input(\"enter exam score or type quit\"))\nExam_4 = float(input(\"enter exam score or type quit\"))\nAverage= (Exam_1+Exam_2+Exam_3+Exam_4)/4\nprint(Average)\nprint(\"number of scores 4. Average is\" ,Average,)\n",
      "execution_count": 12,
      "outputs": [
        {
          "output_type": "stream",
          "name": "stdout",
          "text": "enter exam score or type quit1200\nenter exam score or type quit00\nenter exam score or type quit1200\nenter exam score or type quit1200\n900.0\nnumber of scores 4. Average is 900.0\n"
        }
      ]
    },
    {
      "metadata": {},
      "cell_type": "markdown",
      "source": "## Step 3: Questions\n\n1. What is the loop control variable in this program?\n\nAnswer: Exams \n\n2. What is the exit or terminating condition of the loop in this program?\n\nAnswer:   the averages \n\n3. What happens when you enter an exam score outside the range of 0 to 100? Re-write your code to not accept exam scores outside this range.\n\nAnswer:  It accepts it because its a loop.\n\n\n"
    },
    {
      "metadata": {},
      "cell_type": "markdown",
      "source": "## Step 4: Reflection\n\nReflect upon your experience completing this assignment. This should be a personal narrative, in your own voice, and cite specifics relevant to the activity as to help the grader understand how you arrived at the code you submitted. Things to consider touching upon: Elaborate on the process itself. Did your original problem analysis work as designed?  How many iterations did you go through before you arrived at the solution? Where did you struggle along the way and how did you overcome it? What did you learn from completing the assignment? What do you need to work on to get better? What was most valuable and least valuable about this exercise? Do you have any suggestions for improvements?\n\nTo make a good reflection, you should journal your thoughts, questions and comments while you complete the exercise.\n\nKeep your response to between 100 and 250 words.\n\n`--== Write Your Reflection Below Here ==--`\n\n"
    }
  ],
  "metadata": {
    "anaconda-cloud": {},
    "kernelspec": {
      "name": "python3",
      "display_name": "Python 3",
      "language": "python"
    },
    "language_info": {
      "mimetype": "text/x-python",
      "nbconvert_exporter": "python",
      "name": "python",
      "pygments_lexer": "ipython3",
      "version": "3.5.4",
      "file_extension": ".py",
      "codemirror_mode": {
        "version": 3,
        "name": "ipython"
      }
    },
    "toc": {
      "base_numbering": 1,
      "nav_menu": {},
      "number_sections": false,
      "sideBar": false,
      "skip_h1_title": false,
      "title_cell": "Table of Contents",
      "title_sidebar": "Contents",
      "toc_cell": false,
      "toc_position": {},
      "toc_section_display": false,
      "toc_window_display": false
    }
  },
  "nbformat": 4,
  "nbformat_minor": 1
}