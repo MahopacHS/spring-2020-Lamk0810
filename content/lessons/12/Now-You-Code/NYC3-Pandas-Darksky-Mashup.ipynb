{
  "cells": [
    {
      "metadata": {},
      "cell_type": "markdown",
      "source": "## Load the 7 day forecast from DarkSky.Net into Pandas!\n\nIn this example you will go back to https://api.darksky.net and use your API key to get the 7 day weather forecast for any input location.\n\nFirst you will need to geocode the location to a Latitude and Lognitude. Please use the Python geocoder module for this: https://geocoder.readthedocs.io/ \n\nOne you gave coordinates use the DarkSky api to get the 7 day forecast (it's the current conditions + 7 days out == 8 days total) for the location.\n\nExtract the forecast data and load it into Pandas, then display the Time of the forecast, and high and low temperatures:\n\n**HINT**: To get the times to show up in a human-readable format, you must convert the DarkSky API time (which is in unix timestamp format) to a Pandas Timestamp date/time format. The `pd.to_datetime()` function can help you:\n\n```\ntime = 1489402800 # this the time format Darksky returns\nreadable_time = pd.to_datetime(time, unit='s') ## s stands for unix timestamp format\nreadable_time\n\nTimestamp('2017-03-13 11:00:00')\n```\n\nJust replace the `['time']` column in the `DataFrame` with the new version."
    },
    {
      "metadata": {},
      "cell_type": "markdown",
      "source": "## Step 1: Problem Analysis for entire program\n\nInputs: \n\nOutputs:\n\nAlgorithm (Steps in Program):\n"
    },
    {
      "metadata": {
        "trusted": true
      },
      "cell_type": "code",
      "source": "# STEP 2: Todo write code here\nimport geocoder\ng = geocoder.google('Mountain View, CA')\ng.latlng",
      "execution_count": 6,
      "outputs": [
        {
          "output_type": "error",
          "ename": "SyntaxError",
          "evalue": "invalid syntax (<ipython-input-6-0be9f6461447>, line 2)",
          "traceback": [
            "\u001b[0;36m  File \u001b[0;32m\"<ipython-input-6-0be9f6461447>\"\u001b[0;36m, line \u001b[0;32m2\u001b[0m\n\u001b[0;31m    import: geocoder\u001b[0m\n\u001b[0m          ^\u001b[0m\n\u001b[0;31mSyntaxError\u001b[0m\u001b[0;31m:\u001b[0m invalid syntax\n"
          ]
        }
      ]
    },
    {
      "metadata": {
        "trusted": false
      },
      "cell_type": "code",
      "source": "# Here's my output from when I ran the solution, to give you an example of what I expect to see in Pandas  \n# Input here was Syrcause, NY (lat=43.0481221, lng=-76.1474244) for example",
      "execution_count": 19,
      "outputs": [
        {
          "data": {
            "text/html": "<div>\n<table border=\"1\" class=\"dataframe\">\n  <thead>\n    <tr style=\"text-align: right;\">\n      <th></th>\n      <th>time</th>\n      <th>temperatureMin</th>\n      <th>temperatureMax</th>\n    </tr>\n  </thead>\n  <tbody>\n    <tr>\n      <th>0</th>\n      <td>2017-03-13 04:00:00</td>\n      <td>8.74</td>\n      <td>25.01</td>\n    </tr>\n    <tr>\n      <th>1</th>\n      <td>2017-03-14 04:00:00</td>\n      <td>17.85</td>\n      <td>25.42</td>\n    </tr>\n    <tr>\n      <th>2</th>\n      <td>2017-03-15 04:00:00</td>\n      <td>15.93</td>\n      <td>22.90</td>\n    </tr>\n    <tr>\n      <th>3</th>\n      <td>2017-03-16 04:00:00</td>\n      <td>17.23</td>\n      <td>29.19</td>\n    </tr>\n    <tr>\n      <th>4</th>\n      <td>2017-03-17 04:00:00</td>\n      <td>17.25</td>\n      <td>36.15</td>\n    </tr>\n    <tr>\n      <th>5</th>\n      <td>2017-03-18 04:00:00</td>\n      <td>26.74</td>\n      <td>38.07</td>\n    </tr>\n    <tr>\n      <th>6</th>\n      <td>2017-03-19 04:00:00</td>\n      <td>25.69</td>\n      <td>32.82</td>\n    </tr>\n    <tr>\n      <th>7</th>\n      <td>2017-03-20 04:00:00</td>\n      <td>13.76</td>\n      <td>37.08</td>\n    </tr>\n  </tbody>\n</table>\n</div>",
            "text/plain": "                 time  temperatureMin  temperatureMax\n0 2017-03-13 04:00:00            8.74           25.01\n1 2017-03-14 04:00:00           17.85           25.42\n2 2017-03-15 04:00:00           15.93           22.90\n3 2017-03-16 04:00:00           17.23           29.19\n4 2017-03-17 04:00:00           17.25           36.15\n5 2017-03-18 04:00:00           26.74           38.07\n6 2017-03-19 04:00:00           25.69           32.82\n7 2017-03-20 04:00:00           13.76           37.08"
          },
          "execution_count": 19,
          "metadata": {},
          "output_type": "execute_result"
        }
      ]
    },
    {
      "metadata": {},
      "cell_type": "markdown",
      "source": "## Step 3: Questions\n\n1. Pandas programs are different than typical Python programs. Explain the process you followed to achieve the solution?\n\nAnswer:\n\n\n2. What was the most difficult aspect of this assignment? \n\nAnswer:\n\n"
    },
    {
      "metadata": {},
      "cell_type": "markdown",
      "source": "## Step 4: Reflection\n\nReflect upon your experience completing this assignment. This should be a personal narrative, in your own voice, and cite specifics relevant to the activity as to help the grader understand how you arrived at the code you submitted. Things to consider touching upon: Elaborate on the process itself. Did your original problem analysis work as designed?  How many iterations did you go through before you arrived at the solution? Where did you struggle along the way and how did you overcome it? What did you learn from completing the assignment? What do you need to work on to get better? What was most valuable and least valuable about this exercise? Do you have any suggestions for improvements?\n\nTo make a good reflection, you should journal your thoughts, questions and comments while you complete the exercise.\n\nKeep your response to between 100 and 250 words.\n\n`--== Write Your Reflection Below Here ==--`\n\n"
    },
    {
      "metadata": {
        "trusted": false
      },
      "cell_type": "code",
      "source": "",
      "execution_count": null,
      "outputs": []
    }
  ],
  "metadata": {
    "anaconda-cloud": {},
    "kernelspec": {
      "name": "python3",
      "display_name": "Python 3",
      "language": "python"
    },
    "language_info": {
      "mimetype": "text/x-python",
      "nbconvert_exporter": "python",
      "name": "python",
      "pygments_lexer": "ipython3",
      "version": "3.5.4",
      "file_extension": ".py",
      "codemirror_mode": {
        "version": 3,
        "name": "ipython"
      }
    },
    "toc": {
      "base_numbering": 1,
      "nav_menu": {},
      "number_sections": false,
      "sideBar": false,
      "skip_h1_title": false,
      "title_cell": "Table of Contents",
      "title_sidebar": "Contents",
      "toc_cell": false,
      "toc_position": {},
      "toc_section_display": false,
      "toc_window_display": false
    }
  },
  "nbformat": 4,
  "nbformat_minor": 1
}