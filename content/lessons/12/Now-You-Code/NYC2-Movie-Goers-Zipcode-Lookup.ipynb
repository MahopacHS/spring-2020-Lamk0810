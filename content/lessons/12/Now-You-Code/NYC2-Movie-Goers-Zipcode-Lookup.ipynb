{
  "cells": [
    {
      "metadata": {},
      "cell_type": "markdown",
      "source": "# Now You Code 4: Movie Goers Zipcode Lookup\n\nA movie company has hired you to help them enhance their data set. They would like to know which **US State** each of the respondents in their movie goers survey comes from, and ask you to produce a list of states and a count of movie goers from that state.\n\nThe movie goers dataset `'NYC1-moviegoers.csv'` from NYC1 contains `'zip_code'` but not city and state.\n\nWe will load another pandas dataset, **the Zipcode Database** here: \n`'https://raw.githubusercontent.com/mafudge/datasets/master/zipcodes/free-zipcode-database-Primary.csv'` This data set contains Zip codes with primary city, state and approximate location.\n\nYour goal is to figure out how to use the `DataFrame.merge()` method to combine these two data sets on matching zip code values.\nhttp://pandas.pydata.org/pandas-docs/stable/generated/pandas.DataFrame.merge.html \n\nAfter you merge the dataset, then you can complete the task and provide a count of movie goers by state.\n"
    },
    {
      "metadata": {
        "trusted": true
      },
      "cell_type": "code",
      "source": "# import pandas\nimport pandas as pd\n\n# this turns off warning messages\nimport warnings\nwarnings.filterwarnings('ignore')",
      "execution_count": 1,
      "outputs": []
    },
    {
      "metadata": {},
      "cell_type": "markdown",
      "source": "### Part 1: Load the movie goers dataset into a Pandas DataFrame\n\nWrite code to load the movie goers dataset (in csv format) into the variable `moviegoers` and then print the first few rows. "
    },
    {
      "metadata": {
        "trusted": false
      },
      "cell_type": "code",
      "source": "",
      "execution_count": null,
      "outputs": []
    },
    {
      "metadata": {},
      "cell_type": "markdown",
      "source": "### Part 2: Load the zip code database into a Pandas DataFrame\n\nWrite code to load the movie goers dataset (in csv format) into the variable `zipcodes` and then print the first few rows. \n\nThe database (in csv format) can be found here: `'https://raw.githubusercontent.com/mafudge/datasets/master/zipcodes/free-zipcode-database-Primary.csv'`  \n\n**HINT:**  You must include the named argument `dtype={'Zipcode': object}` to the `read_csv()` method to force the `Zipcode` series to be the same type as in the `moviegoers` dataframe."
    },
    {
      "metadata": {
        "trusted": false
      },
      "cell_type": "code",
      "source": "",
      "execution_count": null,
      "outputs": []
    },
    {
      "metadata": {},
      "cell_type": "markdown",
      "source": "### Part 3: Merge both data sets into a single combined DataFrame\n\nNext we must merge the `moviegoers` DataFrame with the `zipcodes` DataFrame. To do this you must specify which zip code column from `moviegoers` matches the zip cod column from `zipcodes` (as you can see they have different names).\n\n```\nHelp on method merge in module pandas.core.frame:\n\nmerge(right, how='inner', on=None, left_on=None, right_on=None, left_index=False, right_index=False, sort=False, suffixes=('_x', '_y'), copy=True, indicator=False) method of pandas.core.frame.DataFrame instance\n    Merge DataFrame objects by performing a database-style join operation by\n    columns or indexes.\n```\n\nThe type of merge we will do is an `inner`, because we only want rows when the zip codes match. This is called an *intersection*.\n\nTo complete a merge we must specify the column names from the left and right DataFrames.  Most of the code has been written for you. Your task is to complete the columns for the merge, replacing `????` with the appropriate column names."
    },
    {
      "metadata": {
        "trusted": false
      },
      "cell_type": "code",
      "source": "",
      "execution_count": null,
      "outputs": []
    },
    {
      "metadata": {},
      "cell_type": "markdown",
      "source": "### Part 4: Merge both data sets into a single combined DataFrame\n\nFinally, produce the desired output a list of states and counts of movie goers from the survey in each state.\n\nHere's the top 5 for reference:\n\n```\nCA    116\nMN     78\nNY     60\nTX     51\nIL     50\n```"
    },
    {
      "metadata": {
        "collapsed": true
      },
      "cell_type": "markdown",
      "source": "## Step 5: Questions\n\n1. Pandas programs are different than typical Python programs. Explain the process you followed to achieve the solution?\n\nAnswer:\n\n\n2. What was the most difficult aspect of this assignment? \n\nAnswer:\n\n"
    },
    {
      "metadata": {},
      "cell_type": "markdown",
      "source": "## Step 6: Reflection\n\nReflect upon your experience completing this assignment. This should be a personal narrative, in your own voice, and cite specifics relevant to the activity as to help the grader understand how you arrived at the code you submitted. Things to consider touching upon: Elaborate on the process itself. Did your original problem analysis work as designed?  How many iterations did you go through before you arrived at the solution? Where did you struggle along the way and how did you overcome it? What did you learn from completing the assignment? What do you need to work on to get better? What was most valuable and least valuable about this exercise? Do you have any suggestions for improvements?\n\nTo make a good reflection, you should journal your thoughts, questions and comments while you complete the exercise.\n\nKeep your response to between 100 and 250 words.\n\n`--== Write Your Reflection Below Here ==--`\n\n"
    }
  ],
  "metadata": {
    "anaconda-cloud": {},
    "kernelspec": {
      "name": "python3",
      "display_name": "Python 3",
      "language": "python"
    },
    "language_info": {
      "mimetype": "text/x-python",
      "nbconvert_exporter": "python",
      "name": "python",
      "file_extension": ".py",
      "version": "3.5.4",
      "pygments_lexer": "ipython3",
      "codemirror_mode": {
        "version": 3,
        "name": "ipython"
      }
    },
    "toc": {
      "base_numbering": 1,
      "nav_menu": {},
      "number_sections": false,
      "sideBar": false,
      "skip_h1_title": false,
      "title_cell": "Table of Contents",
      "title_sidebar": "Contents",
      "toc_cell": false,
      "toc_position": {},
      "toc_section_display": false,
      "toc_window_display": false
    }
  },
  "nbformat": 4,
  "nbformat_minor": 1
}