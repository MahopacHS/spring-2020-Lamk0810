{
  "cells": [
    {
      "metadata": {},
      "cell_type": "markdown",
      "source": "# Now You Code 1: Data Analysis of Movie Goers\n\nIn this assignment you will perform a data analysis of people who go to the movies. \n\nA movie theatre chain asked movie goers to fill out a quick survey in exchange for a 1/2 price ticket. The survey asked for basic demographics: age, gender, occupation and zip code. This survey results are contained in the data file `'NYC1-moviegoers.csv'`\n\nIn this assignment you will write a series of Python pandas code (in several cells) to answer some basic questions about the responses in the dataset.\n"
    },
    {
      "metadata": {
        "collapsed": true,
        "trusted": false
      },
      "cell_type": "code",
      "source": "# this turns off warning messages\nimport warnings\nwarnings.filterwarnings('ignore')",
      "execution_count": 1,
      "outputs": []
    },
    {
      "metadata": {},
      "cell_type": "markdown",
      "source": "### Part 1: Load the dataset\n\nwrite code to import pandas and load the dataset (in csv format) into the variable `moviegoers` and then print a random sample of 5 people from the data set."
    },
    {
      "metadata": {
        "trusted": false
      },
      "cell_type": "code",
      "source": "",
      "execution_count": null,
      "outputs": []
    },
    {
      "metadata": {},
      "cell_type": "markdown",
      "source": "### Part 2: Gender distribution \n\nHow many males and females filled out our survey? \n\nWrite a single line of Python Pandas code to count the genders in the data set. (There should be M = 670, F = 273)\n\n**HINT:** Select the `gender` column then use a built-in series method to count the values in the series."
    },
    {
      "metadata": {
        "trusted": false
      },
      "cell_type": "code",
      "source": "",
      "execution_count": null,
      "outputs": []
    },
    {
      "metadata": {},
      "cell_type": "markdown",
      "source": "### Part 3: People without jobs\n\nWho are the survey respondents without jobs? \n\nWrite Python Pandas code to create a variable `no_occupation` which filters the `moviegoers` data set to only those survey respondents with an ocupation of `'none'`.  (There should be 9 people)\n"
    },
    {
      "metadata": {
        "trusted": false
      },
      "cell_type": "code",
      "source": "",
      "execution_count": null,
      "outputs": []
    },
    {
      "metadata": {},
      "cell_type": "markdown",
      "source": "### Part 4: Gender distribution of people without jobs.\n\nWhat is the gender distribution of the 9 respondents without jobs? \n\nWrite Python Pandas code to display this. \n\n**HINT:** Use the variable `no_occupation` from the previous step."
    },
    {
      "metadata": {
        "trusted": false
      },
      "cell_type": "code",
      "source": "",
      "execution_count": null,
      "outputs": []
    },
    {
      "metadata": {},
      "cell_type": "markdown",
      "source": "### Part 5: Young Artists\n\nWrite Python Pandas code to display the count of respondents with an occupation of artist who are 21 and under. (There should be 5)\n\n**HINT:** You can either set each Pandas filter to a new `DataFrame` variable or try to chain the filters together. Also display them before you try and count them."
    },
    {
      "metadata": {
        "trusted": false
      },
      "cell_type": "code",
      "source": "",
      "execution_count": null,
      "outputs": []
    },
    {
      "metadata": {},
      "cell_type": "markdown",
      "source": "### Part 6: Distribution by age group\n\nThe movie theater which conducted this survey prices their tickets by age group:\n\n - Youth (age 18 and under) $7.50 \n \n - Adult (age 19 55) $12.50 \n \n - Senior (age 56 and up) $8.50 \n\nWrite python code to count the number of moviegoers in each of these age groups.\n\nYour counts should be as follows:\n```\nAdult     837\nYouth      54\nSenior     52\n```\n\n**HINT:** You must perform feature engineering. Create a new column `'age_group'` and use the `'age'` column to assign one or more values to the age group. After you create the column and set the values get a count of values for the `'age_group'` column.\n\n"
    },
    {
      "metadata": {
        "trusted": false
      },
      "cell_type": "code",
      "source": "",
      "execution_count": null,
      "outputs": []
    },
    {
      "metadata": {},
      "cell_type": "markdown",
      "source": "## Step 7: Questions\n\n1. Pandas programs are different than typical Python programs. Explain the process by which you got the final solution?\n\nAnswer:\n\n\n2. What was the most difficult aspect of this assignment? \n\nAnswer:\n\n"
    },
    {
      "metadata": {},
      "cell_type": "markdown",
      "source": "## Step 8: Reflection\n\nReflect upon your experience completing this assignment. This should be a personal narrative, in your own voice, and cite specifics relevant to the activity as to help the grader understand how you arrived at the code you submitted. Things to consider touching upon: Elaborate on the process itself. Did your original problem analysis work as designed?  How many iterations did you go through before you arrived at the solution? Where did you struggle along the way and how did you overcome it? What did you learn from completing the assignment? What do you need to work on to get better? What was most valuable and least valuable about this exercise? Do you have any suggestions for improvements?\n\nTo make a good reflection, you should journal your thoughts, questions and comments while you complete the exercise.\n\nKeep your response to between 100 and 250 words.\n\n`--== Write Your Reflection Below Here ==--`\n\n"
    }
  ],
  "metadata": {
    "anaconda-cloud": {},
    "kernelspec": {
      "name": "python3",
      "display_name": "Python 3",
      "language": "python"
    },
    "language_info": {
      "mimetype": "text/x-python",
      "nbconvert_exporter": "python",
      "name": "python",
      "pygments_lexer": "ipython3",
      "version": "3.5.4",
      "file_extension": ".py",
      "codemirror_mode": {
        "version": 3,
        "name": "ipython"
      }
    },
    "toc": {
      "base_numbering": 1,
      "nav_menu": {},
      "number_sections": false,
      "sideBar": false,
      "skip_h1_title": false,
      "title_cell": "Table of Contents",
      "title_sidebar": "Contents",
      "toc_cell": false,
      "toc_position": {},
      "toc_section_display": false,
      "toc_window_display": false
    }
  },
  "nbformat": 4,
  "nbformat_minor": 1
}