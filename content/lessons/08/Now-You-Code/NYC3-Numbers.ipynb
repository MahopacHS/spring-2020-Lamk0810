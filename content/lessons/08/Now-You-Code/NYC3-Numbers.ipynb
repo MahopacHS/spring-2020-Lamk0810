{
  "cells": [
    {
      "metadata": {},
      "cell_type": "markdown",
      "source": "# Now You Code 3: List of numbers\n\nThis example will demonstrate how to parse an input string into\na list of numbers. You will then demonstrate it's a list of\nnumbers by calculating the count, sum(), min(), max() and average\nof the numbers using Python's len(), sum(), min(), and max() functions.\n\nExample Run #1:\n```\n    Enter numbers separated by a space: 10 5 0\n\n    Numbers: [10.0, 5.0, 0.0]\n    Count: 3\n    Min: 0.0\n    Max: 10.0\n    Sum: 15.0\n    Average: 5.0\n```\n\nAs usual, devise your plan, write the program, THEN figure out how to handle bad input in Example run #2.\n\nHINT: Use split() to make a list from the input, use a loop to convert\neach item in the list to a float\n\nStart out your program by writing your TODO list of steps\nyou'll need to solve the problem!"
    },
    {
      "metadata": {
        "collapsed": true
      },
      "cell_type": "markdown",
      "source": "## Step 1: Problem Analysis\n\nInputs: a string of numbers separated by a space eg. `10 5 1`\n\nOutputs: the count, sum, min, max and average of the numbers\n\nAlgorithm (Steps in Program):\n\n```\nTODO: Write algorithm here\n```\n\n"
    },
    {
      "metadata": {
        "trusted": true
      },
      "cell_type": "code",
      "source": "# Step 2: Write solution\nnumbers = [] \nnumber=(\"list three numbers\")\ncount\n\n",
      "execution_count": 2,
      "outputs": []
    },
    {
      "metadata": {},
      "cell_type": "markdown",
      "source": "## Step 3: Questions\n\n1. Re-write the solution so that it handles bad input (place in a new cell):\n\nExample Run #2: (Handles bad input)\n```\n    Enter numbers separated by a space: 5 mike 3\n\n    Error: mike is not a number!\n```\n\n2. Explain which part of the solution could be refactored into a function? \n\nAnswer:\n\n3. What would be be the input(s) and output of that function?\n\nAnswer:\n"
    },
    {
      "metadata": {},
      "cell_type": "markdown",
      "source": "## Step 4: Reflection\n\nReflect upon your experience completing this assignment. This should be a personal narrative, in your own voice, and cite specifics relevant to the activity as to help the grader understand how you arrived at the code you submitted. Things to consider touching upon: Elaborate on the process itself. Did your original problem analysis work as designed?  How many iterations did you go through before you arrived at the solution? Where did you struggle along the way and how did you overcome it? What did you learn from completing the assignment? What do you need to work on to get better? What was most valuable and least valuable about this exercise? Do you have any suggestions for improvements?\n\nTo make a good reflection, you should journal your thoughts, questions and comments while you complete the exercise.\n\nKeep your response to between 100 and 250 words.\n\n`--== Write Your Reflection Below Here ==--`\n\n"
    }
  ],
  "metadata": {
    "anaconda-cloud": {},
    "kernelspec": {
      "name": "python3",
      "display_name": "Python 3",
      "language": "python"
    },
    "language_info": {
      "mimetype": "text/x-python",
      "nbconvert_exporter": "python",
      "name": "python",
      "pygments_lexer": "ipython3",
      "version": "3.5.4",
      "file_extension": ".py",
      "codemirror_mode": {
        "version": 3,
        "name": "ipython"
      }
    },
    "toc": {
      "base_numbering": 1,
      "nav_menu": {},
      "number_sections": false,
      "sideBar": false,
      "skip_h1_title": false,
      "title_cell": "Table of Contents",
      "title_sidebar": "Contents",
      "toc_cell": false,
      "toc_position": {},
      "toc_section_display": false,
      "toc_window_display": false
    }
  },
  "nbformat": 4,
  "nbformat_minor": 1
}