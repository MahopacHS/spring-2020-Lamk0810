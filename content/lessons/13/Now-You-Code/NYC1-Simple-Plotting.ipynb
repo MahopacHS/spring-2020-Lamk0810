{
  "cells": [
    {
      "metadata": {},
      "cell_type": "markdown",
      "source": "## Now You Code 1: Simple Plotting\n\nIn this first now you code, you will execute some simple plotting in matplotlib and plot.ly\n\nIn most cases you will be writing 1-2 lines of code. you will spend the majority of time looking through the documentation here:\n\n- http://pandas.pydata.org/pandas-docs/stable/generated/pandas.DataFrame.plot.html \n- https://plot.ly/pandas/\n\nAlso try interactive help: `help(eye_df.plot)` for pandas and `help(eye_df.iplot)`  for plot.ly"
    },
    {
      "metadata": {
        "trusted": true
      },
      "cell_type": "code",
      "source": "import pandas as pd\nimport plotly as py\nimport matplotlib as plt\nimport cufflinks as cf\n%matplotlib inline",
      "execution_count": 8,
      "outputs": [
        {
          "output_type": "error",
          "ename": "ImportError",
          "evalue": "No module named 'cufflinks'",
          "traceback": [
            "\u001b[0;31m---------------------------------------------------------------------------\u001b[0m",
            "\u001b[0;31mImportError\u001b[0m                               Traceback (most recent call last)",
            "\u001b[0;32m<ipython-input-8-0133c511333c>\u001b[0m in \u001b[0;36m<module>\u001b[0;34m()\u001b[0m\n\u001b[1;32m      2\u001b[0m \u001b[0;32mimport\u001b[0m \u001b[0mplotly\u001b[0m \u001b[0;32mas\u001b[0m \u001b[0mpy\u001b[0m\u001b[0;34m\u001b[0m\u001b[0m\n\u001b[1;32m      3\u001b[0m \u001b[0;32mimport\u001b[0m \u001b[0mmatplotlib\u001b[0m \u001b[0;32mas\u001b[0m \u001b[0mplt\u001b[0m\u001b[0;34m\u001b[0m\u001b[0m\n\u001b[0;32m----> 4\u001b[0;31m \u001b[0;32mimport\u001b[0m \u001b[0mcufflinks\u001b[0m \u001b[0;32mas\u001b[0m \u001b[0mcf\u001b[0m\u001b[0;34m\u001b[0m\u001b[0m\n\u001b[0m\u001b[1;32m      5\u001b[0m \u001b[0mget_ipython\u001b[0m\u001b[0;34m(\u001b[0m\u001b[0;34m)\u001b[0m\u001b[0;34m.\u001b[0m\u001b[0mrun_line_magic\u001b[0m\u001b[0;34m(\u001b[0m\u001b[0;34m'matplotlib'\u001b[0m\u001b[0;34m,\u001b[0m \u001b[0;34m'inline'\u001b[0m\u001b[0;34m)\u001b[0m\u001b[0;34m\u001b[0m\u001b[0m\n",
            "\u001b[0;31mImportError\u001b[0m: No module named 'cufflinks'"
          ]
        }
      ]
    },
    {
      "metadata": {
        "trusted": true
      },
      "cell_type": "code",
      "source": "# setup the credentials\n# Sign up for a FREE plot.ly account and get your API credentials. https://plot.ly/settings/api\n\npy.tools.set_credentials_file(username='lamk0810', api_key='••••••••••')",
      "execution_count": null,
      "outputs": []
    },
    {
      "metadata": {
        "trusted": true
      },
      "cell_type": "code",
      "source": "eye_data = [ {'Eye Color' : 'Blue', 'Count' : 190 }, {'Eye Color' : 'Brown', 'Count' : 245 },\n            {'Eye Color' : 'Green', 'Count' : 64 }, {'Eye Color' : 'Hazel', 'Count' : 93 } ]\neye_df = pd.DataFrame(eye_data)\neye_df",
      "execution_count": 4,
      "outputs": [
        {
          "output_type": "execute_result",
          "execution_count": 4,
          "data": {
            "text/html": "<div>\n<table border=\"1\" class=\"dataframe\">\n  <thead>\n    <tr style=\"text-align: right;\">\n      <th></th>\n      <th>Count</th>\n      <th>Eye Color</th>\n    </tr>\n  </thead>\n  <tbody>\n    <tr>\n      <th>0</th>\n      <td>190</td>\n      <td>Blue</td>\n    </tr>\n    <tr>\n      <th>1</th>\n      <td>245</td>\n      <td>Brown</td>\n    </tr>\n    <tr>\n      <th>2</th>\n      <td>64</td>\n      <td>Green</td>\n    </tr>\n    <tr>\n      <th>3</th>\n      <td>93</td>\n      <td>Hazel</td>\n    </tr>\n  </tbody>\n</table>\n</div>",
            "text/plain": "   Count Eye Color\n0    190      Blue\n1    245     Brown\n2     64     Green\n3     93     Hazel"
          },
          "metadata": {}
        }
      ]
    },
    {
      "metadata": {
        "trusted": true
      },
      "cell_type": "code",
      "source": "hair_df =  pd.DataFrame( {'Hair Color' :pd.Series( ['Black', 'Blond', 'Brown', 'Red'], name='Hair Color'), \n                           'Count' : pd.Series( [108, 125, 286, 73], name = 'Count')} )\nhair_df ",
      "execution_count": 5,
      "outputs": [
        {
          "output_type": "execute_result",
          "execution_count": 5,
          "data": {
            "text/html": "<div>\n<table border=\"1\" class=\"dataframe\">\n  <thead>\n    <tr style=\"text-align: right;\">\n      <th></th>\n      <th>Count</th>\n      <th>Hair Color</th>\n    </tr>\n  </thead>\n  <tbody>\n    <tr>\n      <th>0</th>\n      <td>108</td>\n      <td>Black</td>\n    </tr>\n    <tr>\n      <th>1</th>\n      <td>125</td>\n      <td>Blond</td>\n    </tr>\n    <tr>\n      <th>2</th>\n      <td>286</td>\n      <td>Brown</td>\n    </tr>\n    <tr>\n      <th>3</th>\n      <td>73</td>\n      <td>Red</td>\n    </tr>\n  </tbody>\n</table>\n</div>",
            "text/plain": "   Count Hair Color\n0    108      Black\n1    125      Blond\n2    286      Brown\n3     73        Red"
          },
          "metadata": {}
        }
      ]
    },
    {
      "metadata": {
        "trusted": true
      },
      "cell_type": "code",
      "source": "# plot a vertical bar chart of hair colors using pandas / matplotlib\n# Hair color names on the X axis, and chart title of \"Counts of Hair Colors\"\nimport matplotlib.pyplot as plt\n\nplt.bar(['Black', 'Blond', 'Brown', 'Red'],[108, 125, 286, 73] , align='center')\n\nplt.xlabel('X Values')\nplt.ylabel('Y Values')\nplt.title('Counts of Hair Colors')\n\nplt.show()",
      "execution_count": 12,
      "outputs": [
        {
          "output_type": "display_data",
          "data": {
            "image/png": "[encoded data removed]",
            "text/plain": "<matplotlib.figure.Figure at 0x7fb4ab5e6a58>"
          },
          "metadata": {}
        }
      ]
    },
    {
      "metadata": {
        "trusted": false
      },
      "cell_type": "code",
      "source": "# plot the EXACT same thing using plotly / cufflinks\n",
      "execution_count": null,
      "outputs": []
    },
    {
      "metadata": {
        "trusted": true
      },
      "cell_type": "code",
      "source": "# next, plot a pie chart of EYE COLORS using pandas / matplotlib\n# make sure to set the labels on the pie to 'Blue', 'Brown' etc...\nimport matplotlib.pyplot as plt\n\n# Data to plot\nlabels = 'blue', 'brown','green', 'hazel'\ncount = [190,245,64,93]\ncolors = ['blue', 'brown', 'green', 'hazel']\nexplode = (0.1, 0, 0, 0) \n\n\n\nplt.pie('x' explode=explode, labels=labels, colors=colors)\n\nplt.show()",
      "execution_count": null,
      "outputs": []
    },
    {
      "metadata": {
        "trusted": false
      },
      "cell_type": "code",
      "source": "# plot the same pie chart with plot.ly \n",
      "execution_count": null,
      "outputs": []
    },
    {
      "metadata": {
        "trusted": false
      },
      "cell_type": "code",
      "source": "# In this last step you will plot a scatter plot with both pandas and plotly / cufflinks\n#let's get the data:\ncars = pd.read_csv('https://raw.githubusercontent.com/mafudge/datasets/master/cars/weight-vs-mpg.csv')\ncars.sample(5)",
      "execution_count": null,
      "outputs": []
    },
    {
      "metadata": {
        "trusted": false
      },
      "cell_type": "code",
      "source": "# plot use pandas / matplotlib to plot a scatter of weight vs mpg for cars\n",
      "execution_count": null,
      "outputs": []
    },
    {
      "metadata": {
        "trusted": false
      },
      "cell_type": "code",
      "source": "# Use cufflinks to plot a scatter here.\n",
      "execution_count": null,
      "outputs": []
    },
    {
      "metadata": {},
      "cell_type": "markdown",
      "source": "## : Reflection\n\nReflect upon your experience completing this assignment. This should be a personal narrative, in your own voice, and cite specifics relevant to the activity as to help the grader understand how you arrived at the code you submitted. Things to consider touching upon: Elaborate on the process itself. Did your original problem analysis work as designed?  How many iterations did you go through before you arrived at the solution? Where did you struggle along the way and how did you overcome it? What did you learn from completing the assignment? What do you need to work on to get better? What was most valuable and least valuable about this exercise? Do you have any suggestions for improvements?\n\nTo make a good reflection, you should journal your thoughts, questions and comments while you complete the exercise.\n\nKeep your response to between 100 and 250 words.\n\n`--== Write Your Reflection Below Here ==--`\n\n"
    }
  ],
  "metadata": {
    "anaconda-cloud": {},
    "kernelspec": {
      "name": "python3",
      "display_name": "Python 3",
      "language": "python"
    },
    "language_info": {
      "mimetype": "text/x-python",
      "nbconvert_exporter": "python",
      "name": "python",
      "file_extension": ".py",
      "version": "3.5.4",
      "pygments_lexer": "ipython3",
      "codemirror_mode": {
        "version": 3,
        "name": "ipython"
      }
    },
    "toc": {
      "base_numbering": 1,
      "nav_menu": {},
      "number_sections": false,
      "sideBar": false,
      "skip_h1_title": false,
      "title_cell": "Table of Contents",
      "title_sidebar": "Contents",
      "toc_cell": false,
      "toc_position": {},
      "toc_section_display": false,
      "toc_window_display": false
    }
  },
  "nbformat": 4,
  "nbformat_minor": 1
}