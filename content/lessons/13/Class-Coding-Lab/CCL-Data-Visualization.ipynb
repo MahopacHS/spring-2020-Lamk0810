{
  "cells": [
    {
      "metadata": {
        "trusted": false
      },
      "cell_type": "code",
      "source": "# run this code to login to https://okpy.org/ and setup the assignment for submission\nfrom ist256 import okclient\nok = okclient.Lab()",
      "execution_count": null,
      "outputs": []
    },
    {
      "metadata": {},
      "cell_type": "markdown",
      "source": "# In-Class Coding Lab: Data Visualization\n\nThe goals of this lab are to help you understand:\n\n - The value of visualization: A picture is worth 1,000 words!\n - The various ways to visualize information\n - The basic requirements for any visualization\n - How to plot complex visualizations such as multi-series charts and maps\n - Visualization Tools:\n     - Matplolib\n     - Plot.ly\n     - Folium Maps\n     "
    },
    {
      "metadata": {
        "trusted": true
      },
      "cell_type": "code",
      "source": "# first, make sure we have the right modules installed\n!pip install --upgrade chart-studio plotly",
      "execution_count": 4,
      "outputs": [
        {
          "output_type": "stream",
          "text": "Collecting chart-studio\n\u001b[?25l  Downloading https://files.pythonhosted.org/packages/ca/ce/330794a6b6ca4b9182c38fc69dd2a9cbff60fd49421cb8648ee5fee352dc/chart_studio-1.1.0-py3-none-any.whl (64kB)\n\u001b[K     |████████████████████████████████| 71kB 646kB/s eta 0:00:01\n\u001b[?25hCollecting plotly\n\u001b[?25l  Downloading https://files.pythonhosted.org/packages/70/56/eabdc7b7187cdb9d6121f6de2831ad5b85f7d002fa4bfe0476dbdb554bf6/plotly-4.8.1-py2.py3-none-any.whl (11.5MB)\n\u001b[K     |████████████████████████████████| 11.5MB 44kB/s s eta 0:00:01   |▋                               | 235kB 9.8MB/s eta 0:00:02\n\u001b[?25hRequirement already satisfied, skipping upgrade: six in /home/nbuser/anaconda3_420/lib/python3.5/site-packages (from chart-studio) (1.11.0)\nRequirement already satisfied, skipping upgrade: retrying>=1.3.3 in /home/nbuser/anaconda3_420/lib/python3.5/site-packages (from chart-studio) (1.3.3)\nRequirement already satisfied, skipping upgrade: requests in /home/nbuser/anaconda3_420/lib/python3.5/site-packages (from chart-studio) (2.14.2)\nInstalling collected packages: plotly, chart-studio\n  Found existing installation: plotly 4.2.1\n    Uninstalling plotly-4.2.1:\n      Successfully uninstalled plotly-4.2.1\nSuccessfully installed chart-studio-1.1.0 plotly-4.8.1\n\u001b[33mWARNING: You are using pip version 19.3.1; however, version 20.1.1 is available.\nYou should consider upgrading via the 'pip install --upgrade pip' command.\u001b[0m\n",
          "name": "stdout"
        }
      ]
    },
    {
      "metadata": {
        "trusted": true
      },
      "cell_type": "code",
      "source": "%matplotlib inline \n\nimport matplotlib\nimport matplotlib.pyplot as plt\nimport chart_studio as plotly\nimport chart_studio.plotly as py\nimport plotly.express as px\nimport plotly.graph_objects as go\nimport pandas as pd\nimport folium\nimport warnings\n#matplotlib.rcParams['figure.figsize'] = (20.0, 10.0) # larger figure size\nwarnings.filterwarnings('ignore')",
      "execution_count": 1,
      "outputs": [
        {
          "output_type": "error",
          "ename": "ImportError",
          "evalue": "No module named 'folium'",
          "traceback": [
            "\u001b[0;31m---------------------------------------------------------------------------\u001b[0m",
            "\u001b[0;31mImportError\u001b[0m                               Traceback (most recent call last)",
            "\u001b[0;32m<ipython-input-1-6850ab82e9ce>\u001b[0m in \u001b[0;36m<module>\u001b[0;34m()\u001b[0m\n\u001b[1;32m      8\u001b[0m \u001b[0;32mimport\u001b[0m \u001b[0mplotly\u001b[0m\u001b[0;34m.\u001b[0m\u001b[0mgraph_objects\u001b[0m \u001b[0;32mas\u001b[0m \u001b[0mgo\u001b[0m\u001b[0;34m\u001b[0m\u001b[0m\n\u001b[1;32m      9\u001b[0m \u001b[0;32mimport\u001b[0m \u001b[0mpandas\u001b[0m \u001b[0;32mas\u001b[0m \u001b[0mpd\u001b[0m\u001b[0;34m\u001b[0m\u001b[0m\n\u001b[0;32m---> 10\u001b[0;31m \u001b[0;32mimport\u001b[0m \u001b[0mfolium\u001b[0m\u001b[0;34m\u001b[0m\u001b[0m\n\u001b[0m\u001b[1;32m     11\u001b[0m \u001b[0;32mimport\u001b[0m \u001b[0mwarnings\u001b[0m\u001b[0;34m\u001b[0m\u001b[0m\n\u001b[1;32m     12\u001b[0m \u001b[0;31m#matplotlib.rcParams['figure.figsize'] = (20.0, 10.0) # larger figure size\u001b[0m\u001b[0;34m\u001b[0m\u001b[0;34m\u001b[0m\u001b[0m\n",
            "\u001b[0;31mImportError\u001b[0m: No module named 'folium'"
          ]
        }
      ]
    },
    {
      "metadata": {},
      "cell_type": "markdown",
      "source": "## Back to the movie goers data set\n\nFor this lab, we will once again use the movie goers dataset. As you may recall this data set is a survey demographic survey of people who go to the movies. Let's reload the data and setup our `age_group` feature again."
    },
    {
      "metadata": {
        "trusted": true
      },
      "cell_type": "code",
      "source": "goers = pd.read_csv('CCL-moviegoers.csv')\ngoers['age_group'] = ''\ngoers['age_group'][goers['age'] <=18] = 'Youth'\ngoers['age_group'][(goers['age'] >=19) & (goers['age'] <=55)] = 'Adult'\ngoers['age_group'][goers['age'] >=56] = 'Senior'\n\ngoers.sample(5)",
      "execution_count": null,
      "outputs": []
    },
    {
      "metadata": {},
      "cell_type": "markdown",
      "source": "## Visualizing Data\n\nThere are many ways your can visualize information. Which one is the most appropriate? It depends on the data, of course. \n\n- **Counting Categorial data** belongs in *charts like pie charts and bar charts*.\n- **Counting Numerical data** is best suited for *histograms*.\n- **Timeseries data and continuous data** belongs in *line charts*.\n- **A comparision of two continuous values** is best suited for a *scatter plot*. \n- **Geographical data** is best displauyed on *maps*.\n\nLet's use this knowledge to plot some data in the `goers` `DataFrame`!\n\n## Males or Females?\n\nThe first thing we might want to visualize is a count of gender in the dataset. A **pie** chart is well suited for this task as it displays data as a portion of a whole. To create a pie chart we need the data to count and the labels for the counts.\n\nLet's try it.\n\nFirst we get the value counts as a series `gender`:"
    },
    {
      "metadata": {
        "trusted": true
      },
      "cell_type": "code",
      "source": "gender = goers['gender'].value_counts()\n",
      "execution_count": 5,
      "outputs": [
        {
          "output_type": "error",
          "ename": "NameError",
          "evalue": "name 'goers' is not defined",
          "traceback": [
            "\u001b[0;31m---------------------------------------------------------------------------\u001b[0m",
            "\u001b[0;31mNameError\u001b[0m                                 Traceback (most recent call last)",
            "\u001b[0;32m<ipython-input-5-7e5cbb15c3e2>\u001b[0m in \u001b[0;36m<module>\u001b[0;34m()\u001b[0m\n\u001b[0;32m----> 1\u001b[0;31m \u001b[0mgender\u001b[0m \u001b[0;34m=\u001b[0m \u001b[0mgoers\u001b[0m\u001b[0;34m[\u001b[0m\u001b[0;34m'gender'\u001b[0m\u001b[0;34m]\u001b[0m\u001b[0;34m.\u001b[0m\u001b[0mvalue_counts\u001b[0m\u001b[0;34m(\u001b[0m\u001b[0;34m)\u001b[0m\u001b[0;34m\u001b[0m\u001b[0m\n\u001b[0m",
            "\u001b[0;31mNameError\u001b[0m: name 'goers' is not defined"
          ]
        }
      ]
    },
    {
      "metadata": {},
      "cell_type": "markdown",
      "source": "Then we make it into a dataframe:"
    },
    {
      "metadata": {
        "trusted": true
      },
      "cell_type": "code",
      "source": "gender_df = pd.DataFrame( { 'Gender' : gender.index,  \"Counts\" : gender })\n",
      "execution_count": null,
      "outputs": []
    },
    {
      "metadata": {},
      "cell_type": "markdown",
      "source": "Then we plot! The index has the labels, and the value at the index is what we want to plot:"
    },
    {
      "metadata": {
        "trusted": true
      },
      "cell_type": "code",
      "source": "gender_df.plot.pie( y = 'Counts') # y are the values we are plotting",
      "execution_count": 2,
      "outputs": [
        {
          "output_type": "error",
          "ename": "NameError",
          "evalue": "name 'gender_df' is not defined",
          "traceback": [
            "\u001b[0;31m---------------------------------------------------------------------------\u001b[0m",
            "\u001b[0;31mNameError\u001b[0m                                 Traceback (most recent call last)",
            "\u001b[0;32m<ipython-input-2-5130892d30ed>\u001b[0m in \u001b[0;36m<module>\u001b[0;34m()\u001b[0m\n\u001b[0;32m----> 1\u001b[0;31m \u001b[0mgender_df\u001b[0m\u001b[0;34m.\u001b[0m\u001b[0mplot\u001b[0m\u001b[0;34m.\u001b[0m\u001b[0mpie\u001b[0m\u001b[0;34m(\u001b[0m \u001b[0my\u001b[0m \u001b[0;34m=\u001b[0m \u001b[0;34m'Counts'\u001b[0m\u001b[0;34m)\u001b[0m \u001b[0;31m# y are the values we are plotting\u001b[0m\u001b[0;34m\u001b[0m\u001b[0m\n\u001b[0m",
            "\u001b[0;31mNameError\u001b[0m: name 'gender_df' is not defined"
          ]
        }
      ]
    },
    {
      "metadata": {},
      "cell_type": "markdown",
      "source": "### Now You Try it!\n\nCreate a pie chart based on `age_group` first create a series of the `value_counts()` second, create the `DataFrame` with two columns `AgeGroup` and `Counts` then plot with `.plot.pie()`. \n\nFollow the steps we did in the previous three cells, but comvine into one cell!"
    },
    {
      "metadata": {
        "trusted": true
      },
      "cell_type": "code",
      "source": "#todo write code here\n",
      "execution_count": 7,
      "outputs": [
        {
          "output_type": "error",
          "ename": "AttributeError",
          "evalue": "'list' object has no attribute 'value_counts'",
          "traceback": [
            "\u001b[0;31m---------------------------------------------------------------------------\u001b[0m",
            "\u001b[0;31mAttributeError\u001b[0m                            Traceback (most recent call last)",
            "\u001b[0;32m<ipython-input-7-f3c99abc92e6>\u001b[0m in \u001b[0;36m<module>\u001b[0;34m()\u001b[0m\n\u001b[1;32m      1\u001b[0m \u001b[0;31m#todo write code here\u001b[0m\u001b[0;34m\u001b[0m\u001b[0;34m\u001b[0m\u001b[0m\n\u001b[0;32m----> 2\u001b[0;31m \u001b[0mgender\u001b[0m \u001b[0;34m=\u001b[0m \u001b[0;34m[\u001b[0m\u001b[0;34m'gender'\u001b[0m\u001b[0;34m]\u001b[0m\u001b[0;34m.\u001b[0m\u001b[0mvalue_counts\u001b[0m\u001b[0;34m(\u001b[0m\u001b[0;34m)\u001b[0m\u001b[0;34m\u001b[0m\u001b[0m\n\u001b[0m",
            "\u001b[0;31mAttributeError\u001b[0m: 'list' object has no attribute 'value_counts'"
          ]
        }
      ]
    },
    {
      "metadata": {},
      "cell_type": "markdown",
      "source": "## Too many pieces of the pie?\n\nPie charts are nice, but they are only useful when you have a small number of labels. More that 5-7 labels and the pie becomes messy. For example take a look at this pie chart of `occupation`:"
    },
    {
      "metadata": {
        "trusted": false
      },
      "cell_type": "code",
      "source": "occ = goers['occupation'].value_counts()\nocc_df = pd.DataFrame( { 'occupation' : occ.index,  \"counts\" : occ })\nocc_df.plot.pie(y = 'counts')\n",
      "execution_count": null,
      "outputs": []
    },
    {
      "metadata": {},
      "cell_type": "markdown",
      "source": "That's crazy... and difficult to comprehend. Also pie charts visualize data as part of the whole. We have no idea how many students there are. Sometimes we want to know actual counts. This is where the **bar chart** comes in handy!\n\n## Raising the bar!\n\nLet's reproduce the same plot as a bar:"
    },
    {
      "metadata": {
        "trusted": false
      },
      "cell_type": "code",
      "source": "occ_df.plot.bar()",
      "execution_count": null,
      "outputs": []
    },
    {
      "metadata": {},
      "cell_type": "markdown",
      "source": "Ahh. that's much better. So much easier to understand!\n\n### Now you try it!\n\nWrite a one-liner to plot `groups_df` as a Bar!"
    },
    {
      "metadata": {
        "trusted": false
      },
      "cell_type": "code",
      "source": "# todo write code here\n",
      "execution_count": null,
      "outputs": []
    },
    {
      "metadata": {},
      "cell_type": "markdown",
      "source": "## When bar charts fail... \n\nBar charts have the same problem as pie charts. Too many categories overcomplicate the chart, or show the data in a meaningless way. For example, let's create a bart chart for ages: "
    },
    {
      "metadata": {
        "trusted": false
      },
      "cell_type": "code",
      "source": "ages = goers['age'].value_counts()\nages_df = pd.DataFrame( { 'age' : ages.index,  \"counts\" : ages })\nages_df.plot.bar(y = 'counts')",
      "execution_count": null,
      "outputs": []
    },
    {
      "metadata": {},
      "cell_type": "markdown",
      "source": "Meaningless. For two key reasons:\n\n1. too many categories\n2. age is a continuous variable not a categorical variable. In plain English, this means there's a relationship between one age and the next.  20 < 21 < 22. This is not represented in a bar chart.\n\n## ...Call in the Histogram!\n\nWhat we want is a **historgram**, which takes a continuous variable and loads counts into \"buckets\".  Notice how we didn't have to lump data with `value_counts()`. Histograms can do that automatically because the `age` variable is continuous. Let's try it:"
    },
    {
      "metadata": {
        "trusted": false
      },
      "cell_type": "code",
      "source": "goers.hist(column ='age')",
      "execution_count": null,
      "outputs": []
    },
    {
      "metadata": {},
      "cell_type": "markdown",
      "source": "The default histogram has 10 bins. You can tweak the number of bins in your plot with a named argument.  For example, here's 15 bins."
    },
    {
      "metadata": {
        "trusted": false
      },
      "cell_type": "code",
      "source": "goers.hist(column ='age', bins=15)",
      "execution_count": null,
      "outputs": []
    },
    {
      "metadata": {},
      "cell_type": "markdown",
      "source": "## Plot.ly\n\n[Plot.ly](https://plot.ly) is data visualization as a service. You give it data, it gives you back a web-based plot. Plot.ly is free and works with a variety of environments and programming languages, including Python. \n\nFor Python is has bindings so that you can use it just like `matplotlib`! No need to manually invoke the web service call.\n\nTo get started with plot.ly you must sign up for an account and get a set of credentials:\n\n- Visit [https://plot.ly/settings/api](https://plot.ly/settings/api)\n- Create an account or sign-in with Google or GitHub\n- Generate your API key and paste your username and key in the code below:"
    },
    {
      "metadata": {
        "trusted": false
      },
      "cell_type": "code",
      "source": "# todo: setup the credentials replace ??? and ??? with your Plot.ly username and api_key\n\nplotly.tools.set_credentials_file(username='???', api_key='???')\n",
      "execution_count": null,
      "outputs": []
    },
    {
      "metadata": {},
      "cell_type": "markdown",
      "source": "### Plotly Express... easy as pie!\n\nUsing plot.ly is as easy as, or sometimes easier than `matplotlib`. The Plotly expresss module (imported here as `px`) allows for easy plotting of data frames. Here's an example of plotting the same pie chart from above:"
    },
    {
      "metadata": {
        "trusted": false
      },
      "cell_type": "code",
      "source": "px.pie(gender_df,  labels=\"Gender\", names='Gender', values = \"Counts\")",
      "execution_count": null,
      "outputs": []
    },
    {
      "metadata": {},
      "cell_type": "markdown",
      "source": "Notice that plot.ly is a bit more interactive. You can hover over the part of the pie chart and see counts!\n\n### Ploty Express... raising the bar!\n\nHere's the same information in a bar chart using plotly express."
    },
    {
      "metadata": {
        "trusted": false
      },
      "cell_type": "code",
      "source": "px.bar(gender_df,  labels=\"Gender\", x='Gender', y = \"Counts\")",
      "execution_count": null,
      "outputs": []
    },
    {
      "metadata": {},
      "cell_type": "markdown",
      "source": "### Many chart types to choose from.\n\nIf you `dir(px)` you can see all the different chart types supported by Plotly Express. To learn how to plot one, use `help(px.bar)` for example to learn how to plot a bar chart. You can also consult https://plot.ly/python/ for more information."
    },
    {
      "metadata": {
        "trusted": false
      },
      "cell_type": "code",
      "source": "# TODO: Type dir(px) to see the different plot types, then use help() to bring up help for a plot type.\n",
      "execution_count": null,
      "outputs": []
    },
    {
      "metadata": {},
      "cell_type": "markdown",
      "source": "\n\n### Now You Try it!\n\nUse Plotly Express's `px` to create a bar chart on the `occ_df` Data Frame:\n"
    },
    {
      "metadata": {
        "trusted": false
      },
      "cell_type": "code",
      "source": "# todo: write code here\n",
      "execution_count": null,
      "outputs": []
    },
    {
      "metadata": {},
      "cell_type": "markdown",
      "source": "### PoP (Plain old Plotly)\n\nPlotly Express is great for Pandas dataframes, but Plotly can plot anything. Basically the setup is you make a list of Plotly graph objects (a.k.a. things you want to plot. a.a.k.a. series) and then call the `py.iplot()` method function to set the labels. Here's the same gender plot, Plotly style:"
    },
    {
      "metadata": {
        "trusted": false
      },
      "cell_type": "code",
      "source": "grade_data = [ go.Bar(x=gender_df['Gender'], y=gender_df['Counts']) ] # Bar Plot, note this is a list\n\npy.iplot({ 'data': grade_data,\n            'layout': {\n               'title': 'Count of Movie Goers By Gender',\n               'xaxis': {\n                 'title': 'Gender'},\n               'yaxis': {\n                'title': 'Number of People'}\n        }})",
      "execution_count": null,
      "outputs": []
    },
    {
      "metadata": {},
      "cell_type": "markdown",
      "source": "### Need more than one series?\n\nWhen you use Plain old Plotly, its simple to add multiple series to the plot. All you do is add additional Graph objects to the list. Let's make up some extra data and add it to the plot. Note how we add the `name=` argument to label each series. Also each series does not need to be the same plot type. You can mix `Bar` with `Line` etc...\n"
    },
    {
      "metadata": {
        "trusted": false
      },
      "cell_type": "code",
      "source": "projections = [800, 400]\n\ngrade_data = [ \n    go.Bar(x=gender_df['Gender'], y=gender_df['Counts'], name=\"Actual\"),  # Bar Plot, note this is a list\n    go.Bar(x=gender_df['Gender'], y=projections, name=\"Projected\")        # A Line Plot\n] \n\npy.iplot({ 'data': grade_data,\n            'layout': {\n               'title': 'Count of Movie Goers By Gender',\n               'xaxis': {\n                 'title': 'Gender'},\n               'yaxis': {\n                'title': 'Number of People'}\n        }})",
      "execution_count": null,
      "outputs": []
    },
    {
      "metadata": {},
      "cell_type": "markdown",
      "source": "### Now You Try It!\n\nThe following code adds a column `'last_year'` to the `occ_df`. \n\nCreate a two-series plotly plot of movie goers counts. Label `counts` as `This year` and `last_year` as `Last Year`, of course."
    },
    {
      "metadata": {
        "trusted": false
      },
      "cell_type": "code",
      "source": "import random\nocc_df['last_year'] = random.randint(-15,15) +occ_df['counts']\nocc_df.head(3)",
      "execution_count": null,
      "outputs": []
    },
    {
      "metadata": {
        "trusted": false
      },
      "cell_type": "code",
      "source": "# TODO: Make your 2 series plotly plot here\n\n",
      "execution_count": null,
      "outputs": []
    },
    {
      "metadata": {},
      "cell_type": "markdown",
      "source": "## Folium with Leaflet.js\n\nFolium is a Python module wrapper for [Leaflet.js](http://leafletjs.com/), which uses [Open Street Maps](https://www.openstreetmap.us/). These are two, popular open source mapping libraries. Unlike Google maps API, its 100% free!\n\nYou can use Folium to render maps in Python and put data on the maps. Here's how easy it is to bring up a map:\n"
    },
    {
      "metadata": {
        "scrolled": true,
        "trusted": false
      },
      "cell_type": "code",
      "source": "CENTER_US = (39.8333333,-98.585522)\nlondon = (51.5074, -0.1278)\nmap = folium.Map(location=CENTER_US, zoom_start=4)\nmap",
      "execution_count": null,
      "outputs": []
    },
    {
      "metadata": {},
      "cell_type": "markdown",
      "source": "You can zoom right down to the street level and get a amazing detail. There are different maps you can use, as was covered in this week's reading. \n\n### Mapping the student movie goers.\n\nLet's take the largest category of movie goers and map their whereabouts. We will first need to import a data set to give us a lat/lng for the `zip_code` we have in the dataframe. We could look this up with Google's geolookup API, but that's too slow as we will be making 100's of requests. It's better to have them stored already and merge them with `goers`!\n\nLet's import the zipcode database into a Pandas DataFrame, then merge it with the `goers` DataFrame:"
    },
    {
      "metadata": {
        "trusted": false
      },
      "cell_type": "code",
      "source": "zipcodes = pd.read_csv('https://raw.githubusercontent.com/mafudge/datasets/master/zipcodes/free-zipcode-database-Primary.csv', dtype = {'Zipcode' :object})\ndata = goers.merge(zipcodes,  how ='inner', left_on='zip_code', right_on='Zipcode')\nstudents = data[ data['occupation'] == 'student']\nstudents.sample()",
      "execution_count": null,
      "outputs": []
    },
    {
      "metadata": {},
      "cell_type": "markdown",
      "source": "Let's explain the code, as a Pandas refresher course:\n\n1. in the first line I added `dtype = {'Zipcode' :object}` to force the `Zipcode` column to be of type `object` without that, it imports as type `int` and cannot match with the `goers` DataFrame.\n1. the next line merges the two dataframes together where the `zip_code` in `goers` (on_left) matches `Zipcode` in `zipcodes` (on_right)\n1. the result `data` is a combined DataFrame, which we then filter to only `student` occupations, sorting that in the `students` DataFrame\n\n\n### Slapping those students on a map!\n\nWe're ready to place the students on a map. It's easy:\n\n1. For each row in the students dataframe:\n1.   get the coordinates (lat /lng )\n1.   make a `marker` with the coordinates\n1.   add the marker to the map with `add_children()`\n\nHere we go!\n"
    },
    {
      "metadata": {
        "scrolled": false,
        "trusted": false
      },
      "cell_type": "code",
      "source": "for row in students.to_records():\n    pos = (row['Lat'],row['Long'])\n    message = f\"{row['age']} year old {row['gender']}  {row['occupation']} from {row['City']},{row['State']}\"\n    marker = folium.Marker(location=pos, \n                    popup=message\n                          )\n    map.add_child(marker)\nmap",
      "execution_count": null,
      "outputs": []
    },
    {
      "metadata": {},
      "cell_type": "markdown",
      "source": "### Now you try it!\n\n\n1. use the `data` DataFrame to retrieve only the occupation `programmer`\n1. create another map `map2` plot the programmers on that map!"
    },
    {
      "metadata": {
        "trusted": false
      },
      "cell_type": "code",
      "source": "## todo write code here!\n",
      "execution_count": null,
      "outputs": []
    },
    {
      "metadata": {},
      "cell_type": "markdown",
      "source": "## Metacognition\n\nPlease answer the following questions. This should be a personal narrative, in your own voice. Answer the questions by double clicking on the question and placing your answer next to the Answer: prompt.\n\n\n1. Record any questions you have about this lab that you would like to ask in recitation. It is expected you will have questions if you did not complete the code sections correctly.  Learning how to articulate what you do not understand is an important skill of critical thinking. \n\nAnswer: \n\n2. What was the most difficult aspect of completing this lab? Least difficult?  \n\nAnswer: \n\n3. What aspects of this lab do you find most valuable? Least valuable?\n\nAnswer: \n\n4. Rate your comfort level with this week's material so far.   \n\n1 ==> I can do this on my own and explain how to do it.   \n2 ==> I can do this on my own without any help.   \n3 ==> I can do this with help or guidance from others. If you choose this level please list those who helped you.   \n4 ==> I don't understand this at all yet and need extra help. If you choose this please try to articulate that which you do not understand.   \n\nAnswer: \n\n"
    },
    {
      "metadata": {
        "trusted": false
      },
      "cell_type": "code",
      "source": "# to save and turn in your work, execute this cell. Your latest submission will be graded. \nok.submit()",
      "execution_count": null,
      "outputs": []
    }
  ],
  "metadata": {
    "anaconda-cloud": {},
    "kernelspec": {
      "name": "python3",
      "display_name": "Python 3",
      "language": "python"
    },
    "toc": {
      "base_numbering": 1,
      "nav_menu": {},
      "number_sections": false,
      "sideBar": false,
      "skip_h1_title": false,
      "title_cell": "Table of Contents",
      "title_sidebar": "Contents",
      "toc_cell": false,
      "toc_position": {},
      "toc_section_display": false,
      "toc_window_display": false
    }
  },
  "nbformat": 4,
  "nbformat_minor": 1
}